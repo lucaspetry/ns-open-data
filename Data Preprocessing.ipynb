{
 "cells": [
  {
   "cell_type": "code",
   "execution_count": 83,
   "metadata": {},
   "outputs": [],
   "source": [
    "# Format file 'Crime_Statistics_-_Incidents_and_rates_by_offence_category.csv'\n",
    "import pandas as pd\n",
    "import numpy as np\n",
    "\n",
    "crimeStats = pd.read_csv('data/Crime_Statistics_-_Incidents_and_rates_by_offence_category.csv')\n",
    "\n",
    "# Extract first geography string\n",
    "geo = crimeStats.GEOGRAPHY.str.split(',').values\n",
    "crimeStats['GEOGRAPHY2'] = [row[0] for row in geo]\n",
    "\n",
    "# Format Year\n",
    "from datetime import datetime\n",
    "crimeStats['year'] = [datetime.strptime(y, '%m/%d/%Y %I:%M:%S %p').year for y in crimeStats.YEAR]\n",
    "crimeStats.set_index(['GEOGRAPHY', 'year'], inplace=True)\n",
    "\n",
    "rates = crimeStats.pivot_table(values='RATES', index=crimeStats.index, columns='VIOLATIONS', dropna=False)\n",
    "ratesTransp = rates.values.transpose()\n",
    "rateKeys = rates.keys()\n",
    "newCrimeStats = crimeStats.pivot_table(values='INCIDENTS', index=crimeStats.index, columns='VIOLATIONS', dropna=False)\n",
    "\n",
    "for i, key in enumerate(rateKeys):\n",
    "    newCrimeStats['Rate ' + key] = ratesTransp[i]\n",
    "\n",
    "idx = newCrimeStats.index.values\n",
    "idx = np.array([np.array(row) for row in idx])\n",
    "idx = idx.transpose()\n",
    "\n",
    "newCrimeStats['geography'] = idx[0]\n",
    "newCrimeStats['year'] = idx[1]\n",
    "newCrimeStats.to_csv('data/proc/crime_stats_by_offence_category.csv', index=False)"
   ]
  },
  {
   "cell_type": "code",
   "execution_count": 108,
   "metadata": {},
   "outputs": [],
   "source": [
    "counties = pd.read_csv('data/proc/ns_counties.csv')\n",
    "newCrimeStats['CO_CODE'] = ['' for row in newCrimeStats.values]\n",
    "geo = newCrimeStats.geography.str.split(',').values\n",
    "line = -1\n",
    "\n",
    "for i, row in newCrimeStats.iterrows():\n",
    "    line += 1\n",
    "    for j, county in counties.iterrows():\n",
    "        name = county['CO_DESC'].lower()\n",
    "        code = county['CO_CODE']\n",
    "\n",
    "        if name in geo[line][0].lower():\n",
    "            newCrimeStats.loc[i, 'CO_CODE'] = code"
   ]
  }
 ],
 "metadata": {
  "kernelspec": {
   "display_name": "Python 3",
   "language": "python",
   "name": "python3"
  },
  "language_info": {
   "codemirror_mode": {
    "name": "ipython",
    "version": 3
   },
   "file_extension": ".py",
   "mimetype": "text/x-python",
   "name": "python",
   "nbconvert_exporter": "python",
   "pygments_lexer": "ipython3",
   "version": "3.7.1"
  }
 },
 "nbformat": 4,
 "nbformat_minor": 2
}
